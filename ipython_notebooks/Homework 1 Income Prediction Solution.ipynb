{
 "metadata": {
  "name": ""
 },
 "nbformat": 3,
 "nbformat_minor": 0,
 "worksheets": [
  {
   "cells": [
    {
     "cell_type": "raw",
     "metadata": {},
     "source": [
      "1. Get the file"
     ]
    },
    {
     "cell_type": "code",
     "collapsed": false,
     "input": [
      "!wget http://people.stern.nyu.edu/ja1517/data/marketing.data"
     ],
     "language": "python",
     "metadata": {},
     "outputs": [
      {
       "output_type": "stream",
       "stream": "stdout",
       "text": [
        "--2013-10-05 08:12:15--  http://people.stern.nyu.edu/ja1517/data/marketing.data\r\n",
        "Resolving people.stern.nyu.edu... "
       ]
      },
      {
       "output_type": "stream",
       "stream": "stdout",
       "text": [
        "128.122.130.142\r\n",
        "Connecting to people.stern.nyu.edu|128.122.130.142|:80... "
       ]
      },
      {
       "output_type": "stream",
       "stream": "stdout",
       "text": [
        "connected.\r\n",
        "HTTP request sent, awaiting response... "
       ]
      },
      {
       "output_type": "stream",
       "stream": "stdout",
       "text": [
        "200 OK\r\n",
        "Length: 254499 (249K) [text/plain]\r\n",
        "Saving to: \u2018marketing.data\u2019\r\n",
        "\r\n",
        "\r",
        " 0% [                                       ] 0           --.-K/s              "
       ]
      },
      {
       "output_type": "stream",
       "stream": "stdout",
       "text": [
        "\r",
        "19% [======>                                ] 48,853       204KB/s             "
       ]
      },
      {
       "output_type": "stream",
       "stream": "stdout",
       "text": [
        "\r",
        "48% [=================>                     ] 122,701      276KB/s             "
       ]
      },
      {
       "output_type": "stream",
       "stream": "stdout",
       "text": [
        "\r",
        "89% [=================================>     ] 226,957      343KB/s             "
       ]
      },
      {
       "output_type": "stream",
       "stream": "stdout",
       "text": [
        "\r",
        "100%[======================================>] 254,499      353KB/s   in 0.7s   \r\n",
        "\r\n",
        "2013-10-05 08:12:16 (353 KB/s) - \u2018marketing.data\u2019 saved [254499/254499]\r\n",
        "\r\n"
       ]
      }
     ],
     "prompt_number": 1
    },
    {
     "cell_type": "raw",
     "metadata": {},
     "source": [
      "2. Count the lines in the file"
     ]
    },
    {
     "cell_type": "code",
     "collapsed": false,
     "input": [
      "# in unix\n",
      "!wc -l marketing.data"
     ],
     "language": "python",
     "metadata": {},
     "outputs": [
      {
       "output_type": "stream",
       "stream": "stdout",
       "text": [
        "    8994 marketing.data\r\n"
       ]
      }
     ],
     "prompt_number": 2
    },
    {
     "cell_type": "code",
     "collapsed": false,
     "input": [
      "# in python, simple way\n",
      "mdata = open(\"marketing.data\", \"r\")\n",
      "count = 0\n",
      "\n",
      "for line in mdata:\n",
      "    count = count + 1\n",
      "    \n",
      "print \"marketing.data has %d lines\" % count\n",
      "mdata.close()"
     ],
     "language": "python",
     "metadata": {},
     "outputs": [
      {
       "output_type": "stream",
       "stream": "stdout",
       "text": [
        "marketing.data has 8994 lines\n"
       ]
      }
     ],
     "prompt_number": 7
    },
    {
     "cell_type": "raw",
     "metadata": {},
     "source": [
      "3. Remove the NA's"
     ]
    },
    {
     "cell_type": "code",
     "collapsed": false,
     "input": [
      "# in unix\n",
      "!grep -v NA marketing.data | wc -l "
     ],
     "language": "python",
     "metadata": {},
     "outputs": [
      {
       "output_type": "stream",
       "stream": "stdout",
       "text": [
        "    6877\r\n"
       ]
      }
     ],
     "prompt_number": 6
    },
    {
     "cell_type": "code",
     "collapsed": false,
     "input": [
      "# in python, simple way\n",
      "mdata = open(\"marketing.data\", \"r\")\n",
      "count = 0\n",
      "\n",
      "for line in mdata:\n",
      "    if line.count(\"NA\") == 0:\n",
      "        count = count + 1\n",
      "    \n",
      "print \"marketing.data has %d clean lines\" % count\n",
      "mdata.close()"
     ],
     "language": "python",
     "metadata": {},
     "outputs": [
      {
       "output_type": "stream",
       "stream": "stdout",
       "text": [
        "marketing.data has 6877 clean lines\n"
       ]
      }
     ],
     "prompt_number": 8
    },
    {
     "cell_type": "raw",
     "metadata": {},
     "source": [
      "4. Most common education level"
     ]
    },
    {
     "cell_type": "code",
     "collapsed": false,
     "input": [
      "# in unix\n",
      "!cut -f5 -d' ' marketing.data | sort | uniq -c | sort -n -r | head -n 1 "
     ],
     "language": "python",
     "metadata": {},
     "outputs": [
      {
       "output_type": "stream",
       "stream": "stdout",
       "text": [
        "3066 4\r\n"
       ]
      }
     ],
     "prompt_number": 12
    },
    {
     "cell_type": "code",
     "collapsed": false,
     "input": [
      "# in python\n",
      "mdata = open(\"marketing.data\", \"r\")\n",
      "education_counts = {}\n",
      "\n",
      "for line in mdata:\n",
      "    parts = line.strip().split(\" \")\n",
      "    if len(parts) < 5:\n",
      "        continue\n",
      "    education = parts[4] # indexed from 0 in python!\n",
      "    if education in education_counts:\n",
      "        education_counts[education] = 1 + education_counts[education]\n",
      "    else:\n",
      "        education_counts[education] = 1\n",
      "        \n",
      "mdata.close()\n",
      "# find the max\n",
      "max_ct = 0\n",
      "max_ed = 0\n",
      "\n",
      "for key,val in education_counts.iteritems():\n",
      "    if val > max_ct:\n",
      "        max_ct = val\n",
      "        max_ed = key\n",
      "\n",
      "print \"most common education is %s, occurred %d times\" % (max_ed, max_ct)"
     ],
     "language": "python",
     "metadata": {},
     "outputs": [
      {
       "output_type": "stream",
       "stream": "stdout",
       "text": [
        "most common education is 4, occurred 3066 times\n"
       ]
      }
     ],
     "prompt_number": 13
    },
    {
     "cell_type": "raw",
     "metadata": {},
     "source": [
      "5. Income Distribution for those with some grad school"
     ]
    },
    {
     "cell_type": "code",
     "collapsed": false,
     "input": [
      "# in unix\n",
      "!cut -f1,5 -d' ' marketing.data | grep ' 6' | cut -f1 -d' ' | sort | uniq -c"
     ],
     "language": "python",
     "metadata": {},
     "outputs": [
      {
       "output_type": "stream",
       "stream": "stdout",
       "text": [
        "  40 1\r\n",
        "  34 2\r\n",
        "  35 3\r\n",
        "  51 4\r\n",
        "  53 5\r\n",
        " 119 6\r\n",
        " 137 7\r\n",
        " 225 8\r\n",
        " 272 9\r\n"
       ]
      }
     ],
     "prompt_number": 18
    },
    {
     "cell_type": "code",
     "collapsed": false,
     "input": [
      "# in python\n",
      "mdata = open(\"marketing.data\", \"r\")\n",
      "income_counts = {}\n",
      "\n",
      "for line in mdata:\n",
      "    parts = line.strip().split(\" \")\n",
      "    if len(parts) < 5:\n",
      "        continue\n",
      "    education = parts[4] # indexed from 0 in python!\n",
      "    if education != \"6\":\n",
      "        continue\n",
      "    income = parts[0]\n",
      "    \n",
      "    if income in income_counts:\n",
      "        income_counts[income] = 1 + income_counts[income]\n",
      "    else:\n",
      "        income_counts[income] = 1\n",
      "        \n",
      "mdata.close()\n",
      "\n",
      "print income_counts"
     ],
     "language": "python",
     "metadata": {},
     "outputs": [
      {
       "output_type": "stream",
       "stream": "stdout",
       "text": [
        "{'1': 40, '3': 35, '2': 34, '5': 53, '4': 51, '7': 137, '6': 119, '9': 272, '8': 225}\n"
       ]
      }
     ],
     "prompt_number": 20
    },
    {
     "cell_type": "code",
     "collapsed": false,
     "input": [],
     "language": "python",
     "metadata": {},
     "outputs": []
    }
   ],
   "metadata": {}
  }
 ]
}