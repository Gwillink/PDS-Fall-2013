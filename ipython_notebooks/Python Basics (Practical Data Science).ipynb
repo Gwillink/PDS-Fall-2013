{
 "metadata": {
  "name": ""
 },
 "nbformat": 3,
 "nbformat_minor": 0,
 "worksheets": [
  {
   "cells": [
    {
     "cell_type": "markdown",
     "metadata": {},
     "source": [
      "Comments\n",
      "--------\n",
      "Comments are notes in your source code that aren't exectued when your code is run. These are useful for reminding yourself what your code does, and for notifying others to your intentions. Python has single line and multiline comments."
     ]
    },
    {
     "cell_type": "code",
     "collapsed": false,
     "input": [
      "# this is a single line comment\n",
      "print \"trying out some comments\"\n",
      "\n",
      "\"\"\"and here\n",
      "is a multi-line comment\"\"\"\n",
      "\n",
      "\n",
      "print \"python ftw\""
     ],
     "language": "python",
     "metadata": {},
     "outputs": [
      {
       "output_type": "stream",
       "stream": "stdout",
       "text": [
        "trying out some comments\n",
        "python ftw\n"
       ]
      }
     ],
     "prompt_number": 8
    },
    {
     "cell_type": "markdown",
     "metadata": {},
     "source": [
      "Variables\n",
      "---------\n",
      "\n",
      "Variables are aliases for data. This allows the developer to use the name for a particular value rather than the value it self. This makes the code more readable, and allows various optimizations to make a program run more efficiently.\n",
      "\n",
      "In python, a variable can be named almost anything, according to the whims of the programmer. You can use any letter, the special characters \"_\" and every number provided you do not start with it. White spaces and signs with special meanings in Python, as \"+\" and \"-\" are not allowed. Variable names are case-sensitive\n",
      "\n",
      "Variables are declared by stating the variable name and assigning to it using the \"=\" operator. At any time, you can reassign a value to a variable."
     ]
    },
    {
     "cell_type": "code",
     "collapsed": false,
     "input": [
      "a_variable = \"yay!\"\n",
      "another_variable = \"woo!\"\n",
      "\n",
      "print a_variable\n",
      "\n",
      "a_variable = \"uh oh!\" # reassigning\n",
      "\n",
      "print a_variable\n",
      "\n",
      "a_variable = another_variable # reassigning again\n",
      "\n",
      "print a_variable"
     ],
     "language": "python",
     "metadata": {},
     "outputs": [
      {
       "output_type": "stream",
       "stream": "stdout",
       "text": [
        "yay!\n",
        "uh oh!\n",
        "woo!\n"
       ]
      }
     ],
     "prompt_number": 11
    },
    {
     "cell_type": "markdown",
     "metadata": {},
     "source": [
      "Primitive Data Types\n",
      "--------------------\n",
      "\n",
      "These are the basic data types that constitute all of the more complex data structures in python.\n",
      "\n",
      "###String:\n",
      "Textual data, characters and sequences of characters. Can be specified by surrounding some text with single `'` or double `\"` quotes. "
     ]
    },
    {
     "cell_type": "code",
     "collapsed": false,
     "input": [
      "str_1 = \"hello\"\n",
      "str_2 = \"world\"\n",
      "print str_1 + \" \" + str_2 + \"!\" # note that + concatenates strings\n",
      "\n",
      "str_3 = \"\"\"\n",
      "this is a multiline\n",
      "string!\n",
      "\"\"\"\n",
      "\n",
      "print str_3"
     ],
     "language": "python",
     "metadata": {},
     "outputs": [
      {
       "output_type": "stream",
       "stream": "stdout",
       "text": [
        "hello world!\n",
        "\n",
        "this is a multiline\n",
        "string!\n",
        "\n"
       ]
      }
     ],
     "prompt_number": 6
    },
    {
     "cell_type": "markdown",
     "metadata": {},
     "source": [
      "###Integer:\n",
      "Positive and negative whole numbers"
     ]
    },
    {
     "cell_type": "code",
     "collapsed": false,
     "input": [
      "int_1 = 1\n",
      "int_2 = -2\n",
      "int_3 = 100\n",
      "\n",
      "print int_1 + int_2 + int_3 # for integers, + is just \"plus\""
     ],
     "language": "python",
     "metadata": {},
     "outputs": [
      {
       "output_type": "stream",
       "stream": "stdout",
       "text": [
        "99\n"
       ]
      }
     ],
     "prompt_number": 9
    },
    {
     "cell_type": "markdown",
     "metadata": {},
     "source": [
      "###Floating Point Numbers:\n",
      "Decimal numbers, representations of fractions, and \"real-valued numbers\""
     ]
    },
    {
     "cell_type": "code",
     "collapsed": false,
     "input": [
      "float_1 = 1.2\n",
      "float_2 = -4.0\n",
      "float_3 = 10.0\n",
      "\n",
      "print float_1 + float_2 + float_3"
     ],
     "language": "python",
     "metadata": {},
     "outputs": [
      {
       "output_type": "stream",
       "stream": "stdout",
       "text": [
        "7.2\n"
       ]
      }
     ],
     "prompt_number": 4
    },
    {
     "cell_type": "markdown",
     "metadata": {},
     "source": [
      "###Booleans:\n",
      "\n",
      "Booleans represent the truth or success of a statement, and are commonly used for branching and checking status in code. "
     ]
    },
    {
     "cell_type": "code",
     "collapsed": false,
     "input": [
      "bool_1 = True \n",
      "bool_2 = False\n",
      "\n",
      "print bool_1\n",
      "print bool_2"
     ],
     "language": "python",
     "metadata": {},
     "outputs": [
      {
       "output_type": "stream",
       "stream": "stdout",
       "text": [
        "True\n",
        "False\n"
       ]
      }
     ],
     "prompt_number": 10
    },
    {
     "cell_type": "markdown",
     "metadata": {},
     "source": [
      "Operations on Primitive Data Types\n",
      "----------------------------------\n",
      "\n",
      "Python provides a variety of operations for performing common tasks on the primitive data types presented above. Of course, this list isn't complete, and the core functionality provided by python is greatly extended by library code, some of which will be discussed below. Note that operations can be performed either on \"literal primitives\" or on variables storing some primitive. \n",
      "\n",
      "###Operations on Strings \n",
      "We've already seen one of the most common string operators, `+`, used for string concatenation. Below are some of the more commonly used string operations:\n",
      "\n",
      "+ `+` : concatenate two strings\n",
      "+ `len(str)`: length of a string, number of characters\n",
      "+ `str.upper()`: returns an uppercase version of a string\n",
      "+ `str.lower()`: returns a lowercase version of a string\n",
      "+ `haystack.index(needle)`: searches haystack for needle, prints the position of the first occurrence, indexed from 0. Note, throws an error if needle isn't found.\n",
      "+ `str_1.count(str_2)`: counts the number of occurrences of one string in another.\n",
      "+ `haystack.startswith(needle)`: does a the haystack string start with the needle string?\n",
      "+ `haystack.endswith(needle)`: does a the haystack string end with the needle string?\n",
      "+ `str_1.split(str_2)`: split the first string at every occurrence of the second string. Outputs a list (see below).\n",
      "+ `==`: are the two operand strings the same?\n",
      "\n",
      "A better list of string operations is [available here](http://docs.python.org/2/library/string.html)."
     ]
    },
    {
     "cell_type": "code",
     "collapsed": false,
     "input": [
      "print \"concatenation:\"\n",
      "print str_1 + \" \" + str_2\n",
      "print str_1 + \" everybody\"\n",
      "\n",
      "print \"length:\"\n",
      "print len(str_1)\n",
      "print len(str_1 + \" \" + str_2)\n",
      "\n",
      "print \"string casing:\"\n",
      "print str_1.upper()\n",
      "print \"HELLO\".lower()\n",
      "\n",
      "print \"string indexing:\"\n",
      "print \"hello\".index(\"ll\")\n",
      "print \"hello\".upper().index(\"LL\")\n",
      "\n",
      "print \"string count:\"\n",
      "print str_1.count(\"l\")\n",
      "print str_1.count(\"ll\")\n",
      "\n",
      "print \"starts with & endswith:\"\n",
      "print \"hello\".startswith(\"he\")\n",
      "print \"hello\".endswith(\"world\")\n",
      "\n",
      "print \"split:\"\n",
      "print \"practical data science\".split(\" \")\n",
      "print \"hello\".split(\" \")\n",
      "\n",
      "print \"equality:\"\n",
      "print str_1 == \"hello\"\n",
      "print str_1 == \"HELLO\""
     ],
     "language": "python",
     "metadata": {},
     "outputs": [
      {
       "output_type": "stream",
       "stream": "stdout",
       "text": [
        "concatenation:\n",
        "hello world\n",
        "hello everybody\n",
        "length:\n",
        "5\n",
        "11\n",
        "string casing:\n",
        "HELLO\n",
        "hello\n",
        "string indexing:\n",
        "2\n",
        "2\n",
        "string count:\n",
        "2\n",
        "1\n",
        "starts with & endswith:\n",
        "True\n",
        "False\n",
        "split:\n",
        "['practical', 'data', 'science']\n",
        "['hello']\n",
        "equality:\n",
        "True\n",
        "False\n"
       ]
      }
     ],
     "prompt_number": 25
    },
    {
     "cell_type": "markdown",
     "metadata": {},
     "source": [
      "###Operations on Numeric Types:\n",
      "There are a bunch of common mathematical operations available on numeric types in python. If an operation is being performed on two integers, then the output will also be an integer. If one of the operands is a float, then the remaining operand will be cast into a float, and the result will likewise be a float.\n",
      "\n",
      "+ `+`: plus, add two numbers\n",
      "+ `-`: minus, subtract two numbers. If put before a single numeric value, takes the negative of that value. \n",
      "+ `*`: multiply two numbers\n",
      "+ `/`: divide the first operand by the second.\n",
      "+ `%`: modulous, what is the remainder when the first number is divided by the second?"
     ]
    },
    {
     "cell_type": "code",
     "collapsed": false,
     "input": [
      "print \"addition:\"\n",
      "print 1+1\n",
      "print 1.5 + 1\n",
      "\n",
      "print \"subtraction:\"\n",
      "print 1-1\n",
      "print 1-1.0\n",
      "\n",
      "print \"negation:\"\n",
      "x = 5\n",
      "print -x\n",
      "\n",
      "print \"multiplication:\"\n",
      "print 3*3\n",
      "print 2*2.0\n",
      "\n",
      "print \"division:\"\n",
      "print 5/2 # integer division!\n",
      "print 5/2.0\n",
      "\n",
      "print \"modulous:\"\n",
      "print 5%2\n",
      "print 5.5%2\n"
     ],
     "language": "python",
     "metadata": {},
     "outputs": [
      {
       "output_type": "stream",
       "stream": "stdout",
       "text": [
        "addition:\n",
        "2\n",
        "2.5\n",
        "subtraction:\n",
        "0\n",
        "0.0\n",
        "negation:\n",
        "-5\n",
        "multiplication:\n",
        "9\n",
        "4.0\n",
        "division:\n",
        "2\n",
        "2.5\n",
        "modulous:\n",
        "1\n",
        "1.5\n"
       ]
      }
     ],
     "prompt_number": 26
    },
    {
     "cell_type": "markdown",
     "metadata": {},
     "source": [
      "There are also a bunch of comparison operators on numeric values:\n",
      "\n",
      "+ `==`: equality of values\n",
      "+ `<`: less than\n",
      "+ `<=`: less than or equal to\n",
      "+ `>`: greater than\n",
      "+ `>=`: greater than or equal to\n",
      "+ `!=`: not equal to, different than\n",
      "\n",
      "These all return a boolean with a value that depends on the outcome of the comparison. "
     ]
    },
    {
     "cell_type": "code",
     "collapsed": false,
     "input": [
      "print \"equals:\"\n",
      "print 1 == 2\n",
      "print 1 == 1\n",
      "print 1 == 1.0\n",
      "\n",
      "print \"comparison:\"\n",
      "print 1 > 0\n",
      "print 1 > 1\n",
      "print 1.0 > 1\n",
      "print 1 >= 1\n",
      "print 1.0 != 1"
     ],
     "language": "python",
     "metadata": {},
     "outputs": [
      {
       "output_type": "stream",
       "stream": "stdout",
       "text": [
        "equals:\n",
        "False\n",
        "True\n",
        "True\n",
        "comparison:\n",
        "True\n",
        "False\n",
        "False\n",
        "True\n",
        "False\n"
       ]
      }
     ],
     "prompt_number": 27
    },
    {
     "cell_type": "markdown",
     "metadata": {},
     "source": [
      "###String Formatting:\n",
      "Often one wants to embed other information into strings, sometimes with special formatting constraints. In python, one may insert special formatting characters into strings that convey what type of data should be inserted and where, and how the \"stringified\" form should be formatted. For instance, one may wish to insert an integer into a string:"
     ]
    },
    {
     "cell_type": "code",
     "collapsed": false,
     "input": [
      "print \"To be or not %d be\" % 2"
     ],
     "language": "python",
     "metadata": {},
     "outputs": [
      {
       "output_type": "stream",
       "stream": "stdout",
       "text": [
        "To be or not 2 be\n"
       ]
      }
     ],
     "prompt_number": 28
    },
    {
     "cell_type": "markdown",
     "metadata": {},
     "source": [
      "Note the `%d` formatting (or conversion) specifier in the string. This is stating that you wish to insert an integer value (more on these conversion specifiers below). Then the value you wish to insert into the string is separated by a `%` character placed after the string. If you wish to insert more than one value into the string being formatted, they can be placed in a comma separated list, surrounded by parentheses after the `%`:"
     ]
    },
    {
     "cell_type": "code",
     "collapsed": false,
     "input": [
      "print \"%d be or not %d be\" % (2, 2)"
     ],
     "language": "python",
     "metadata": {},
     "outputs": [
      {
       "output_type": "stream",
       "stream": "stdout",
       "text": [
        "2 be or not 2 be\n"
       ]
      }
     ],
     "prompt_number": 29
    },
    {
     "cell_type": "markdown",
     "metadata": {},
     "source": [
      "In detail, a conversion specifier contains two or more characters which must occur in order with the following components:\n",
      "\n",
      "+ The `%` character which marks the start of the specifier\n",
      "+ An optional minimum field width. The value being read is padded to be at least this width\n",
      "+ An optional precision value, given as a \"`.`\" followed by the number of digits precision. \n",
      "+ Conversion specifier flag specified below. \n",
      "\n",
      "For a more detailed treatment on string formatting options, [see here](http://docs.python.org/release/2.5.2/lib/typesseq-strings.html).\n",
      "\n",
      "Some common conversion flag characters are:\n",
      "\n",
      "+ `d`: Signed integer decimal.\t\n",
      "+ `i`: Signed integer decimal.\t\n",
      "+ `e`: Floating point exponential format (lowercase).\n",
      "+ `E`: Floating point exponential format (uppercase).\n",
      "+ `f`: Floating point decimal format.\n",
      "+ `c`: Single character (accepts integer or single character string).\t\n",
      "+ `r`: String (converts any python object using repr()).\n",
      "+ `s`: String (converts any python object using str()).\n"
     ]
    },
    {
     "cell_type": "code",
     "collapsed": false,
     "input": [
      "print \"%d %s or not %04.1f %c\" % (2, \"be\", 2, 'b')"
     ],
     "language": "python",
     "metadata": {},
     "outputs": [
      {
       "output_type": "stream",
       "stream": "stdout",
       "text": [
        "2 be or not 02.0 b\n"
       ]
      }
     ],
     "prompt_number": 36
    },
    {
     "cell_type": "markdown",
     "metadata": {},
     "source": [
      "Data Structures\n",
      "---------------\n",
      "\n",
      "We have covered in detail much of the basics of python's primitive data types. Its now useful to consider how these basic types can be collected in ways that are meaningful and useful for a variety of tasks. Data structures are a fundamental component of programming, a collection of elements of data that adhere to certain properties, depending on the type. In these notes, we'll present three basic data structures, the list, the set, and the dictionary. Python data structures are very rich, and beyond the scope of this simple primer. Please see [the documentation](http://docs.python.org/2/tutorial/datastructures.html) for a more complete view.\n",
      "\n",
      "###List:\n",
      "A list, sometimes called and array or a vector is an ordered collection of values. The value of a particular element in a list is retrieved by querying for a specific index into an array. Lists allow duplicate values, but but indicies are unique. In python, like most programming languages, list indices start at 0, that is, to get the first element in a list, request the element at index 0. Lists provide very fast access to elements at specific positions, but are inefficient at \"membership queries,\" determining if an element is in the array. \n",
      "\n",
      "In python, lists are specified by square brackets, `[ ]`, containing zero or more values, separated by commas. Lists are the most common data structure, and are often generated as a result of other functions, for instance, `a_string.split(\" \")`.\n",
      "\n",
      "To query a specific value from a list, pass in the requested index into square brackets following the name of the list. Negative indices can be used to traverse the list from the right."
     ]
    },
    {
     "cell_type": "code",
     "collapsed": false,
     "input": [
      "a_list = [1, 2, 3]\n",
      "another_list = [\"a\", \"b\", \"c\"]\n",
      "empty_list = []\n",
      "mixed_list = [1, \"a\"]\n",
      "\n",
      "print another_list[1]\n",
      "print a_list[-1] # indexing from the right"
     ],
     "language": "python",
     "metadata": {},
     "outputs": [
      {
       "output_type": "stream",
       "stream": "stdout",
       "text": [
        "b\n",
        "3\n"
       ]
      }
     ],
     "prompt_number": 42
    },
    {
     "cell_type": "markdown",
     "metadata": {},
     "source": [
      "Some common functionality of lists:\n",
      "\n",
      "+ `list.append(x)`: add an element ot the end of a list\n",
      "+ `list_1.extend(list_2)`: add all elements in the second list to the end of the first list\n",
      "+ `list.isert(index, x)`: insert element x into the list at the specified index. Elements to the right of this index are shifted over\n",
      "+ `list.pop(index)`: remove the element at the specified position\n",
      "+ `list.index(x)`: looks through the list to find the specified element, returning it's position if it's found, else throws an error\n",
      "+ `list.count(x)`: counts the number of occurrences of the input element\n",
      "+ `list.sort()`: sorts the list of items\n",
      "+ `list.reverse()`: reverses the order of the list"
     ]
    },
    {
     "cell_type": "markdown",
     "metadata": {},
     "source": [
      "###Set:\n",
      "\n",
      "A set is a data structure where all elements are unique. Sets are unordered. In fact, the order of the elements observed when printing a set might change at different points during a programs execution, depending on the state of python's internal representation of the set. Sets are ideal for membership queries, for instance, is a user amongst those users who have received a promotion? \n",
      "\n",
      "Sets are specified by curly braces, `{ }`, containing zero or more comma separated values:"
     ]
    },
    {
     "cell_type": "code",
     "collapsed": false,
     "input": [
      "some_set = {1, 2, 3, 4}\n",
      "another_set = {4, 5, 6}\n",
      "empty_set = {}"
     ],
     "language": "python",
     "metadata": {},
     "outputs": [],
     "prompt_number": 40
    },
    {
     "cell_type": "markdown",
     "metadata": {},
     "source": [
      "The easiest way to check for membership in a set is to use the `in` keyword, checking if a needle is \"`in`\" the haystack set."
     ]
    },
    {
     "cell_type": "code",
     "collapsed": false,
     "input": [
      "print 1 in some_set\n",
      "print 0 in some_set"
     ],
     "language": "python",
     "metadata": {},
     "outputs": [
      {
       "output_type": "stream",
       "stream": "stdout",
       "text": [
        "True\n",
        "False\n"
       ]
      }
     ],
     "prompt_number": 44
    },
    {
     "cell_type": "markdown",
     "metadata": {},
     "source": [
      "Some other common set functionality:\n",
      "\n",
      "+ `set_a.add(x)`: add an element to a set\n",
      "+ `set_a.remove(x)`: remove an element from a set\n",
      "+ `set_a - set_b`: elements in a but not in b\n",
      "+ `set_a | set_b`: elements in a or b\n",
      "+ `set_a & set_b`: elements in both a and b\n",
      "+ `set_a ^ set_b`: elements in a or b but not both\n"
     ]
    },
    {
     "cell_type": "markdown",
     "metadata": {},
     "source": [
      "###Dictionaries:\n",
      "\n",
      "Dictionaries, sometimes called dicts, maps, or, rarely, hashes are data structures containing key-value pairs. Dictionaries have a set of unique keys and are used to retrieve the value information associated with these keys. For instance, a dictionary might be used to store for each user, that user's location, or for a product id, the description associated with that product. Lookup into a dictionary is very efficient, and because these data structures are very common, they are frequently used and encountered in practice. \n",
      "\n",
      "Dictionaries are specified by curly braces, `{ }`, containing zero or more comma separated key-value pairs, where the keys and values are separated by a colon, `:`. Like a list, values for a particular key are retrieved by passing the query key into square brackets."
     ]
    },
    {
     "cell_type": "code",
     "collapsed": false,
     "input": [
      "a_dict = {\"a\":1, \"b\":2, \"c\":3}\n",
      "another_dict = {\"c\":5, \"d\":6}\n",
      "\n",
      "print a_dict[\"b\"]"
     ],
     "language": "python",
     "metadata": {},
     "outputs": [
      {
       "output_type": "stream",
       "stream": "stdout",
       "text": [
        "2\n"
       ]
      }
     ],
     "prompt_number": 45
    },
    {
     "cell_type": "markdown",
     "metadata": {},
     "source": [
      "Like the set, the easiest way to check if a particular key is in a map is through the `in` keyword:"
     ]
    },
    {
     "cell_type": "code",
     "collapsed": false,
     "input": [
      "print \"a\" in a_dict\n",
      "print \"b\" in another_dict"
     ],
     "language": "python",
     "metadata": {},
     "outputs": [
      {
       "output_type": "stream",
       "stream": "stdout",
       "text": [
        "True\n",
        "False\n"
       ]
      }
     ],
     "prompt_number": 46
    },
    {
     "cell_type": "markdown",
     "metadata": {},
     "source": [
      "Some common operations on dictionaries:\n",
      "\n",
      "+ `dict.keys()`: returns a list containing the keys of a dictionary\n",
      "+ `dict.values()`: returns a list containing the values in a dictionary\n",
      "+ `dict.pop(x)`: removes the key and its associated value from the dictionary"
     ]
    },
    {
     "cell_type": "markdown",
     "metadata": {},
     "source": [
      "###Combining (Nesting) Data Structures:\n",
      "\n",
      "There are many opportunities to combine data types in python. Lists can be populated by arbitrary data structures. Similarly, you can use any type as the value in a dictionary. However, the elements of sets, and the keys of dictionaries need to have some special properties that allow the mechanics of the data structure to determine how to store the element.\n",
      "\n",
      "Aside: to use a particular element in a set or as a key in a dictionary, it must define a [hash function](http://en.wikipedia.org/wiki/Hash_function), `__hash__`. In a nutshell, a hash function maps a data element to a number in a predefined range, based on the characteristics of that element. Because the contents of a data structure might change, so too would the value of their associated `__hash__` function, causing problems for the algorithms powering sets and dictionaries."
     ]
    },
    {
     "cell_type": "code",
     "collapsed": false,
     "input": [
      "print \"lists of lists\"\n",
      "lol = [[1, 2, 3], [4, 5, 6]]\n",
      "lol_2 = [[4, 5, 6], [7, 8, 9]]\n",
      "print lol\n",
      "\n",
      "print \"lists of lists of lists\"\n",
      "lolol = [lol, lol_2]\n",
      "print lolol\n",
      "\n",
      "print \"retrieving data from this data structure\"\n",
      "print lolol[0]\n",
      "print lolol[0][0]\n",
      "print lolol[0][0][0]\n",
      "\n",
      "print \"data structures as values in a dictionary\"\n",
      "dlol = {\"lol\":lol, \"lol_2\":lol_2}\n",
      "print dlol\n",
      "\n",
      "print \"retrieving data from this dictionary\"\n",
      "print dlol[\"lol\"]\n",
      "print dlol[\"lol\"][0]\n",
      "print dlol[\"lol\"][0][0]"
     ],
     "language": "python",
     "metadata": {},
     "outputs": [
      {
       "output_type": "stream",
       "stream": "stdout",
       "text": [
        "lists of lists\n",
        "[[1, 2, 3], [4, 5, 6]]\n",
        "lists of lists of lists\n",
        "[[[1, 2, 3], [4, 5, 6]], [[4, 5, 6], [7, 8, 9]]]\n",
        "retrieving data from this data structure\n",
        "[[1, 2, 3], [4, 5, 6]]\n",
        "[1, 2, 3]\n",
        "1\n",
        "data structures as values in a dictionary\n",
        "{'lol': [[1, 2, 3], [4, 5, 6]], 'lol_2': [[4, 5, 6], [7, 8, 9]]}\n",
        "retrieving data from this dictionary\n",
        "[[1, 2, 3], [4, 5, 6]]\n",
        "[1, 2, 3]\n",
        "1\n"
       ]
      }
     ],
     "prompt_number": 52
    },
    {
     "cell_type": "markdown",
     "metadata": {},
     "source": [
      "Control Structures\n",
      "------------------\n",
      "\n",
      "We've spent some time going into detail about some of the data types and structures available in python. It's now time to talk about how to navigate through some of this data, and use data to make decisions. Traversing over data and making decisions based upon data are a common aspect of every programming language, known as control flow. Python provides a rich control flow, with a lot of conveniences for the power users. Here, we're just going to talk about the basics, to learn more, please [consult the documentation](http://docs.python.org/2/tutorial/controlflow.html). \n",
      "\n",
      "A common theme throughout this discussion of control structures is the notion of a \"block of code.\" Blocks of code are demarcated by a specific level of indentation, typically separated from the surrounding code by some control structure elements, immediately preceeded by a colon, `:`. We'll see examples below. \n",
      "\n",
      "Finally, note that control structures can be nested arbitrarily, depending on the tasks you're trying to accomplish. \n",
      "\n",
      "###if Statements:\n",
      "\n",
      "If statements are perhaps the most widely used of all control structures. An if statement consists of a code block and an argument. The if statement evaluates the boolean value of it's argument, executing the code block if that argument is true. "
     ]
    },
    {
     "cell_type": "code",
     "collapsed": false,
     "input": [
      "if True:\n",
      "    print \"duh\"\n",
      "    \n",
      "if 1+1 == 2:\n",
      "    print \"easy\"\n",
      "    \n",
      "if 2+2 == 5:\n",
      "    print \"really?\"\n",
      "    \n",
      "items = {1, 2, 3}\n",
      "if 2 in items:\n",
      "    print \"found it!\""
     ],
     "language": "python",
     "metadata": {},
     "outputs": [
      {
       "output_type": "stream",
       "stream": "stdout",
       "text": [
        "duh\n",
        "easy\n",
        "found it!\n"
       ]
      }
     ],
     "prompt_number": 54
    },
    {
     "cell_type": "markdown",
     "metadata": {},
     "source": [
      "Each argument in the above if statements is a boolean expression. Often you want to have alternatives, blocks of code that get evaluated in the event that the argument to an if statement is false. This is where elif (else if) and else come in. \n",
      "\n",
      "An elif is evaluated if all preceeding if or elif arguments have evaluted to false. The else statement is the last resort, assigning the code that gets exectued if no if or elif above it is true. These statements are optional, and can be added to an if statement in any order, with at most one code block being evaluated. An else will always have it's code be exectued, if nothing above it is true."
     ]
    },
    {
     "cell_type": "code",
     "collapsed": false,
     "input": [
      "if 1+2 == 2:\n",
      "    print \"whoa\"\n",
      "elif 1+1 == 0:\n",
      "    print \"that explains it\"\n",
      "else:\n",
      "    print \"what I expected\"\n",
      "    \n",
      "x = {1,2,3}\n",
      "if 5 in x:\n",
      "    print \"found it\"\n",
      "else:\n",
      "    print \"didn't find it\"\n",
      "    x.add(5)\n",
      "print x\n",
      "\n",
      "if False:\n",
      "    print \"shouln't happen\"\n",
      "elif True:\n",
      "    print \"should happen\""
     ],
     "language": "python",
     "metadata": {},
     "outputs": [
      {
       "output_type": "stream",
       "stream": "stdout",
       "text": [
        "what I expected\n",
        "didn't find it\n",
        "set([1, 2, 3, 5])\n",
        "should happen\n"
       ]
      }
     ],
     "prompt_number": 58
    },
    {
     "cell_type": "markdown",
     "metadata": {},
     "source": [
      "###for Statements:\n",
      "\n",
      "for statements are a convenient way to iterate through the values contained in a data structure. Going through the elements in a data structure one at a time, this element is assigned to variable. The code block associated with the for statement (or for loop) is then evaluated with this value."
     ]
    },
    {
     "cell_type": "code",
     "collapsed": false,
     "input": [
      "set = {1, 2, 3, 4}\n",
      "for num in set:\n",
      "    print num\n",
      "    \n",
      "print \"a more complex block\"\n",
      "for num in set:\n",
      "    if num >= 3:\n",
      "        print num+5\n",
      "\n",
      "print \"this also works for lists\"\n",
      "list = [1,2,3]\n",
      "for num in list:\n",
      "    if num >= 2:\n",
      "        print num+5\n",
      "\n",
      "print \"dictionaries let you iterate through keys, values, or both\"\n",
      "dict = {\"a\":1, \"b\":2}\n",
      "\n",
      "for k in dict.keys():\n",
      "    print k\n",
      "for v in dict.values():\n",
      "    print v\n",
      "for k,v in dict.iteritems():\n",
      "    if v == dict[k]:\n",
      "        print \"whew!\"\n"
     ],
     "language": "python",
     "metadata": {},
     "outputs": [
      {
       "output_type": "stream",
       "stream": "stdout",
       "text": [
        "1\n",
        "2\n",
        "3\n",
        "4\n",
        "a more complex block\n",
        "8\n",
        "9\n",
        "this also works for lists\n",
        "7\n",
        "8\n",
        "dictionaries let you iterate through keys, values, or both\n",
        "a\n",
        "b\n",
        "1\n",
        "2\n",
        "whew!\n",
        "whew!\n"
       ]
      }
     ],
     "prompt_number": 63
    },
    {
     "cell_type": "markdown",
     "metadata": {},
     "source": [
      "###Break and Continue:\n",
      "\n",
      "These two statements are used to modify iteration of loops. Break is used to exit the inner most loop in which it appears. Continue the current pass through the loop, going on to the next iteration."
     ]
    },
    {
     "cell_type": "code",
     "collapsed": false,
     "input": [
      "x = [1,2,3,4,5]\n",
      "for num in x:\n",
      "    print num\n",
      "    if num > 2:\n",
      "        break\n",
      "        \n",
      "y = [\"a\", \"b\", \"c\", \"d\"]\n",
      "for letter in y:\n",
      "    if letter == \"a\":\n",
      "        continue\n",
      "    print letter"
     ],
     "language": "python",
     "metadata": {},
     "outputs": [
      {
       "output_type": "stream",
       "stream": "stdout",
       "text": [
        "1\n",
        "2\n",
        "3\n",
        "b\n",
        "c\n",
        "d\n"
       ]
      }
     ],
     "prompt_number": 68
    },
    {
     "cell_type": "markdown",
     "metadata": {},
     "source": [
      "###Ranges of Integers:\n",
      "\n",
      "Often it is convenient to define (and iterate through) ranges of integers. Python has a convenient range function that allows you to do just this."
     ]
    },
    {
     "cell_type": "code",
     "collapsed": false,
     "input": [
      "print range(3) # start at zero, < the specified ceiling value\n",
      "print range(-5, 5) #from the left value, < right value\n",
      "print range(-5, 5, 2) #from the left value, to the middle value, incrementing by the right value\n",
      "\n",
      "for x in range(-5, 5):\n",
      "    if x > 0:\n",
      "        print \"%d is positive\" % x"
     ],
     "language": "python",
     "metadata": {},
     "outputs": [
      {
       "output_type": "stream",
       "stream": "stdout",
       "text": [
        "[0, 1, 2]\n",
        "[-5, -4, -3, -2, -1, 0, 1, 2, 3, 4]\n",
        "[-5, -3, -1, 1, 3]\n",
        "1 is positive\n",
        "2 is positive\n",
        "3 is positive\n",
        "4 is positive\n"
       ]
      }
     ],
     "prompt_number": 65
    },
    {
     "cell_type": "markdown",
     "metadata": {},
     "source": [
      "User Defined Functions\n",
      "----------------------\n",
      "\n",
      "Functions assign a name to a block of code the way variables assign names to bits of data. This seeminly benign naming of things is incredibly powerful; alloing one to reuse common functionality over and over. Well-tested functions form building blocks for large, complex systems. As you progress through python, you'll find yourself using powerful functions defined in some of python's vast libraries of code. \n",
      "\n",
      "Function definitions begin with the `def` keyword, followed by the name you wish to assign to a function. Following this name are parentheses, `( )`, containing zero or more variable names, those values that are passed into the function. There is then a colon, followed by a code block defining the actions of the function:"
     ]
    },
    {
     "cell_type": "code",
     "collapsed": false,
     "input": [
      "def print_hi():\n",
      "    print \"hi!\"\n",
      "\n",
      "def hi_you(name):\n",
      "    print \"hi %s!\" % name\n",
      "\n",
      "def square(num):\n",
      "    squared = num*num\n",
      "    return squared\n",
      "\n",
      "print_hi()\n",
      "hi_you(\"josh\")\n",
      "print square(100)"
     ],
     "language": "python",
     "metadata": {},
     "outputs": [
      {
       "output_type": "stream",
       "stream": "stdout",
       "text": [
        "hi!\n",
        "hi josh!\n",
        "10000\n"
       ]
      }
     ],
     "prompt_number": 70
    },
    {
     "cell_type": "markdown",
     "metadata": {},
     "source": [
      "Note that the fucntion `square` has a special keyword return. The argument to return is passed to whatever piece of code is calling the function. In this case, the square of the number that was input. "
     ]
    },
    {
     "cell_type": "markdown",
     "metadata": {},
     "source": [
      "Class Objects\n",
      "-------------"
     ]
    },
    {
     "cell_type": "markdown",
     "metadata": {},
     "source": [
      "Files and Printing\n",
      "------------------"
     ]
    }
   ],
   "metadata": {}
  }
 ]
}