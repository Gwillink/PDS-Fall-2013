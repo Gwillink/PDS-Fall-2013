{
 "metadata": {
  "name": ""
 },
 "nbformat": 3,
 "nbformat_minor": 0,
 "worksheets": [
  {
   "cells": [
    {
     "cell_type": "markdown",
     "metadata": {},
     "source": [
      "##Download the files"
     ]
    },
    {
     "cell_type": "code",
     "collapsed": false,
     "input": [
      "# using wget\n",
      "!wget https://raw.github.com/jattenberg/PDS-Fall-2013/master/roster/survey_multiple_choice.csv\n",
      "    \n",
      "# second dataset\n",
      "!wget https://raw.github.com/jattenberg/PDS-Fall-2013/master/marketing/marketing.data"
     ],
     "language": "python",
     "metadata": {},
     "outputs": [
      {
       "output_type": "stream",
       "stream": "stdout",
       "text": [
        "--2013-10-22 23:22:54--  https://raw.github.com/jattenberg/PDS-Fall-2013/master/roster/survey_multiple_choice.csv\r\n",
        "Resolving raw.github.com... "
       ]
      },
      {
       "output_type": "stream",
       "stream": "stdout",
       "text": [
        "199.27.75.133\r\n",
        "Connecting to raw.github.com|199.27.75.133|:443... "
       ]
      },
      {
       "output_type": "stream",
       "stream": "stdout",
       "text": [
        "connected.\r\n"
       ]
      },
      {
       "output_type": "stream",
       "stream": "stdout",
       "text": [
        "HTTP request sent, awaiting response... "
       ]
      },
      {
       "output_type": "stream",
       "stream": "stdout",
       "text": [
        "200 OK\r\n",
        "Length: 11936 (12K) [text/plain]\r\n",
        "Saving to: \u2018survey_multiple_choice.csv.2\u2019\r\n",
        "\r\n",
        "\r",
        " 0% [                                       ] 0           --.-K/s              "
       ]
      },
      {
       "output_type": "stream",
       "stream": "stdout",
       "text": [
        "\r",
        "100%[======================================>] 11,936      --.-K/s   in 0.02s   \r\n",
        "\r\n",
        "2013-10-22 23:22:55 (720 KB/s) - \u2018survey_multiple_choice.csv.2\u2019 saved [11936/11936]\r\n",
        "\r\n"
       ]
      },
      {
       "output_type": "stream",
       "stream": "stdout",
       "text": [
        "--2013-10-22 23:22:55--  https://raw.github.com/jattenberg/PDS-Fall-2013/master/marketing/marketing.data\r\n",
        "Resolving raw.github.com... 199.27.75.133\r\n",
        "Connecting to raw.github.com|199.27.75.133|:443... "
       ]
      },
      {
       "output_type": "stream",
       "stream": "stdout",
       "text": [
        "connected.\r\n"
       ]
      },
      {
       "output_type": "stream",
       "stream": "stdout",
       "text": [
        "HTTP request sent, awaiting response... "
       ]
      },
      {
       "output_type": "stream",
       "stream": "stdout",
       "text": [
        "200 OK\r\n",
        "Length: 254499 (249K) [text/plain]\r\n",
        "Saving to: \u2018marketing.data\u2019\r\n",
        "\r\n",
        "\r",
        " 0% [                                       ] 0           --.-K/s              "
       ]
      },
      {
       "output_type": "stream",
       "stream": "stdout",
       "text": [
        "\r",
        " 6% [=>                                     ] 15,281      55.6KB/s             "
       ]
      },
      {
       "output_type": "stream",
       "stream": "stdout",
       "text": [
        "\r",
        "12% [===>                                   ] 31,281      57.1KB/s             "
       ]
      },
      {
       "output_type": "stream",
       "stream": "stdout",
       "text": [
        "\r",
        "18% [======>                                ] 47,281      57.8KB/s             "
       ]
      },
      {
       "output_type": "stream",
       "stream": "stdout",
       "text": [
        "\r",
        "24% [========>                              ] 63,281      57.7KB/s             "
       ]
      },
      {
       "output_type": "stream",
       "stream": "stdout",
       "text": [
        "\r",
        "28% [=========>                             ] 71,281      52.5KB/s             "
       ]
      },
      {
       "output_type": "stream",
       "stream": "stdout",
       "text": [
        "\r",
        "34% [============>                          ] 87,281      43.5KB/s             "
       ]
      },
      {
       "output_type": "stream",
       "stream": "stdout",
       "text": [
        "\r",
        "43% [================>                      ] 111,281     48.5KB/s             "
       ]
      },
      {
       "output_type": "stream",
       "stream": "stdout",
       "text": [
        "\r",
        "46% [=================>                     ] 119,281     46.2KB/s             "
       ]
      },
      {
       "output_type": "stream",
       "stream": "stdout",
       "text": [
        "\r",
        "50% [==================>                    ] 127,281     39.2KB/s  eta 3s     "
       ]
      },
      {
       "output_type": "stream",
       "stream": "stdout",
       "text": [
        "\r",
        "59% [======================>                ] 151,281     42.8KB/s  eta 3s     "
       ]
      },
      {
       "output_type": "stream",
       "stream": "stdout",
       "text": [
        "\r",
        "62% [=======================>               ] 159,281     41.2KB/s  eta 3s     "
       ]
      },
      {
       "output_type": "stream",
       "stream": "stdout",
       "text": [
        "\r",
        "68% [=========================>             ] 175,281     42.3KB/s  eta 3s     "
       ]
      },
      {
       "output_type": "stream",
       "stream": "stdout",
       "text": [
        "\r",
        "72% [===========================>           ] 183,281     42.1KB/s  eta 2s     "
       ]
      },
      {
       "output_type": "stream",
       "stream": "stdout",
       "text": [
        "\r",
        "75% [============================>          ] 191,281     39.5KB/s  eta 2s     "
       ]
      },
      {
       "output_type": "stream",
       "stream": "stdout",
       "text": [
        "\r",
        "81% [==============================>        ] 207,281     38.6KB/s  eta 2s     "
       ]
      },
      {
       "output_type": "stream",
       "stream": "stdout",
       "text": [
        "\r",
        "84% [===============================>       ] 215,281     38.2KB/s  eta 1s     "
       ]
      },
      {
       "output_type": "stream",
       "stream": "stdout",
       "text": [
        "\r",
        "87% [=================================>     ] 223,281     36.2KB/s  eta 1s     "
       ]
      },
      {
       "output_type": "stream",
       "stream": "stdout",
       "text": [
        "\r",
        "94% [===================================>   ] 239,281     37.1KB/s  eta 1s     "
       ]
      },
      {
       "output_type": "stream",
       "stream": "stdout",
       "text": [
        "\r",
        "97% [====================================>  ] 247,281     35.9KB/s  eta 0s     "
       ]
      },
      {
       "output_type": "stream",
       "stream": "stdout",
       "text": [
        "\r",
        "100%[======================================>] 254,499     35.1KB/s   in 6.9s   \r\n",
        "\r\n",
        "2013-10-22 23:23:04 (35.9 KB/s) - \u2018marketing.data\u2019 saved [254499/254499]\r\n",
        "\r\n"
       ]
      }
     ],
     "prompt_number": 3
    },
    {
     "cell_type": "markdown",
     "metadata": {},
     "source": [
      "1.2:"
     ]
    },
    {
     "cell_type": "code",
     "collapsed": false,
     "input": [
      "# how many students have completed the survey? \n",
      "!wc -l survey_multiple_choice.csv"
     ],
     "language": "python",
     "metadata": {},
     "outputs": [
      {
       "output_type": "stream",
       "stream": "stdout",
       "text": [
        "      52 survey_multiple_choice.csv\r\n"
       ]
      }
     ],
     "prompt_number": 4
    },
    {
     "cell_type": "markdown",
     "metadata": {},
     "source": [
      "1.3"
     ]
    },
    {
     "cell_type": "code",
     "collapsed": false,
     "input": [
      "# maps storing skill counts\n",
      "\n",
      "term_skills = {\"I don't even understand the question\": 0,\n",
      "\"I have no experience working in a terminal\": 0,\n",
      "\"I have issued a few commands in a terminal based on given instructions\": 0,\n",
      "\"I have written simple terminal commands or done some system work on the terminal\": 0,\n",
      "\"I have written complex commands done or have done deep system work\": 0}\n",
      "\n",
      "db_skills = {\"I have never directly accessed a database\": 0, \n",
      "\"I have issued simple queries to a relational database based on given instructions\": 0,\n",
      "\"I can write simple queries and issue them to a database\": 0,\n",
      "\"I can write very complex queries when needed\": 0,\n",
      "\"I am a database hacker\": 0}\n",
      "\n",
      "prog_skills = {\"I have never programmed before.\": 0,\n",
      "\"I have written simple programs based on instructions or a tutorial\": 0,\n",
      "\"I can write simple programs to accomplish tasks I encounter\": 0,\n",
      "\"I can write complex programs am familiar with programming design patterns software testing system design and algorithms.\": 0,\n",
      "\"I am a hacker or have  senior-level programming experience\": 0}\n",
      "\n",
      "f = open('survey_multiple_choice.csv', 'r')\n",
      "for line in f:\n",
      "  cols = line.split(',')\n",
      "  terminal = cols[2].strip()\n",
      "  # there was some issue with the apostrophe\n",
      "  if terminal not in term_skills:\n",
      "        terminal = \"I don't even understand the question\"\n",
      "  term_skills[terminal] = term_skills[terminal] + 1\n",
      "  db = cols[3].strip()\n",
      "  db_skills[db] = db_skills[db] + 1\n",
      "  prog = cols[4].strip()\n",
      "  prog_skills[prog] = prog_skills[prog] + 1\n",
      "\n",
      "keys = range(5)\n",
      "\n",
      "print \"Unix\"\n",
      "print term_skills\n",
      "print \"\\nDatabase\"\n",
      "print db_skills\n",
      "print \"\\nProgramming\"\n",
      "print prog_skills"
     ],
     "language": "python",
     "metadata": {},
     "outputs": [
      {
       "output_type": "stream",
       "stream": "stdout",
       "text": [
        "Unix\n",
        "{\"I don't even understand the question\": 5, 'I have issued a few commands in a terminal based on given instructions': 21, 'I have no experience working in a terminal': 6, 'I have written complex commands done or have done deep system work': 2, 'I have written simple terminal commands or done some system work on the terminal': 18}\n",
        "\n",
        "Database\n",
        "{'I am a database hacker': 0, 'I have issued simple queries to a relational database based on given instructions': 10, 'I can write simple queries and issue them to a database': 17, 'I have never directly accessed a database': 17, 'I can write very complex queries when needed': 8}\n",
        "\n",
        "Programming\n",
        "{'I can write simple programs to accomplish tasks I encounter': 17, 'I am a hacker or have  senior-level programming experience': 0, 'I have written simple programs based on instructions or a tutorial': 21, 'I have never programmed before.': 6, 'I can write complex programs am familiar with programming design patterns software testing system design and algorithms.': 8}\n"
       ]
      }
     ],
     "prompt_number": 8
    },
    {
     "cell_type": "markdown",
     "metadata": {},
     "source": [
      "1.4"
     ]
    },
    {
     "cell_type": "code",
     "collapsed": false,
     "input": [
      "# using the data structures from the previous problem\n",
      "# assign some skill weight to the different skill levels, basically arbitrary\n",
      "\n",
      "term_skills_weight = {\"I don't even understand the question\": 0,\n",
      "\"I have no experience working in a terminal\": 0,\n",
      "\"I have issued a few commands in a terminal based on given instructions\": 1,\n",
      "\"I have written simple terminal commands or done some system work on the terminal\": 3,\n",
      "\"I have written complex commands done or have done deep system work\": 5}\n",
      "\n",
      "db_skills_weight = {\"I have never directly accessed a database\": 0, \n",
      "\"I have issued simple queries to a relational database based on given instructions\": 1,\n",
      "\"I can write simple queries and issue them to a database\": 2,\n",
      "\"I can write very complex queries when needed\": 3,\n",
      "\"I am a database hacker\": 5}\n",
      "\n",
      "prog_skills_weight = {\"I have never programmed before.\": 0,\n",
      "\"I have written simple programs based on instructions or a tutorial\": 1,\n",
      "\"I can write simple programs to accomplish tasks I encounter\": 2,\n",
      "\"I can write complex programs am familiar with programming design patterns software testing system design and algorithms.\": 4,\n",
      "\"I am a hacker or have  senior-level programming experience\": 5}\n",
      "\n",
      "\n",
      "prog_total = 0\n",
      "term_total = 0\n",
      "db_total = 0\n",
      "\n",
      "# skills and their counts \n",
      "for key, value in term_skills.iteritems():\n",
      "    skillweight = term_skills_weight[key]\n",
      "    term_total = term_total + skillweight*value\n",
      "    \n",
      "for key, value in prog_skills.iteritems():\n",
      "    skillweight = prog_skills_weight[key]\n",
      "    prog_total = prog_total + skillweight*value\n",
      "\n",
      "for key, value in db_skills.iteritems():\n",
      "    skillweight = db_skills_weight[key]\n",
      "    db_total = db_total + skillweight*value    \n",
      "    \n",
      "print \"terminal: %d database: %d programming: %d\" % (term_total, db_total, prog_total)"
     ],
     "language": "python",
     "metadata": {},
     "outputs": [
      {
       "output_type": "stream",
       "stream": "stdout",
       "text": [
        "terminal: 85 database: 68 programming: 87\n"
       ]
      }
     ],
     "prompt_number": 13
    },
    {
     "cell_type": "markdown",
     "metadata": {},
     "source": [
      "1.5"
     ]
    },
    {
     "cell_type": "code",
     "collapsed": false,
     "input": [
      "# this was basically done in 1.3\n",
      "rows = []\n",
      "f = open('survey_multiple_choice.csv', 'r')\n",
      "for line in f:\n",
      "  cols = line.strip().split(',')\n",
      "  rows.append(cols)\n"
     ],
     "language": "python",
     "metadata": {},
     "outputs": [],
     "prompt_number": 14
    },
    {
     "cell_type": "markdown",
     "metadata": {},
     "source": [
      "1.6"
     ]
    },
    {
     "cell_type": "code",
     "collapsed": false,
     "input": [
      "%matplotlib inline\n",
      "import matplotlib.pyplot as plt\n",
      "\n",
      "# assign an index to each skill\n",
      "term_skills_index = {\"I don't even understand the question\": 0,\n",
      "\"I have no experience working in a terminal\": 1,\n",
      "\"I have issued a few commands in a terminal based on given instructions\": 2,\n",
      "\"I have written simple terminal commands or done some system work on the terminal\": 3,\n",
      "\"I have written complex commands done or have done deep system work\": 4}\n",
      "\n",
      "db_skills_index = {\"I have never directly accessed a database\": 0, \n",
      "\"I have issued simple queries to a relational database based on given instructions\": 1,\n",
      "\"I can write simple queries and issue them to a database\": 2,\n",
      "\"I can write very complex queries when needed\": 3,\n",
      "\"I am a database hacker\": 4}\n",
      "\n",
      "prog_skills_index = {\"I have never programmed before.\": 0,\n",
      "\"I have written simple programs based on instructions or a tutorial\": 1,\n",
      "\"I can write simple programs to accomplish tasks I encounter\": 2,\n",
      "\"I can write complex programs am familiar with programming design patterns software testing system design and algorithms.\": 3,\n",
      "\"I am a hacker or have  senior-level programming experience\": 4}\n",
      "\n",
      "\n",
      "term_arr = [0, 0, 0, 0, 0]\n",
      "db_arr = [0, 0, 0, 0, 0]\n",
      "prog_arr = [0, 0, 0, 0, 0]\n",
      "\n",
      "# skills and their counts \n",
      "for key, value in term_skills.iteritems():\n",
      "    index = term_skills_index[key]\n",
      "    term_arr[index] = value\n",
      "    \n",
      "for key, value in prog_skills.iteritems():\n",
      "    index = prog_skills_index[key]\n",
      "    prog_arr[index] = value\n",
      "\n",
      "for key, value in db_skills.iteritems():\n",
      "    index = db_skills_index[key]\n",
      "    db_arr[index] = value\n",
      "    \n",
      "keys = range(5)    \n",
      "plt.plot(keys,term_arr,color='r')\n",
      "plt.show()\n",
      "plt.plot(keys,db_arr,color='g')\n",
      "plt.show()\n",
      "plt.plot(keys,prog_arr,color='b')\n",
      "plt.show()"
     ],
     "language": "python",
     "metadata": {},
     "outputs": [
      {
       "metadata": {},
       "output_type": "display_data",
       "png": "[encoded data removed]",
       "text": [
        "<matplotlib.figure.Figure at 0x1023e01d0>"
       ]
      },
      {
       "metadata": {},
       "output_type": "display_data",
       "png": "[encoded data removed]",
       "text": [
        "<matplotlib.figure.Figure at 0x103422590>"
       ]
      },
      {
       "metadata": {},
       "output_type": "display_data",
       "png": "[encoded data removed]",
       "text": [
        "<matplotlib.figure.Figure at 0x1084c4bd0>"
       ]
      }
     ],
     "prompt_number": 17
    },
    {
     "cell_type": "markdown",
     "metadata": {},
     "source": [
      "1.7"
     ]
    },
    {
     "cell_type": "code",
     "collapsed": false,
     "input": [
      "plt.plot(keys,term_arr,color='r')\n",
      "plt.plot(keys,db_arr,color='g')\n",
      "plt.plot(keys,prog_arr,color='b')\n",
      "plt.legend(['terminal', 'database', 'programming'])\n",
      "plt.show()"
     ],
     "language": "python",
     "metadata": {},
     "outputs": [
      {
       "metadata": {},
       "output_type": "display_data",
       "png": "[encoded data removed]",
       "text": [
        "<matplotlib.figure.Figure at 0x1084c13d0>"
       ]
      }
     ],
     "prompt_number": 19
    },
    {
     "cell_type": "markdown",
     "metadata": {},
     "source": [
      "1.8"
     ]
    },
    {
     "cell_type": "code",
     "collapsed": false,
     "input": [
      "plt.bar(keys,term_arr,color='r')\n",
      "plt.show()\n",
      "plt.bar(keys,db_arr,color='g')\n",
      "plt.show()\n",
      "plt.bar(keys,prog_arr,color='b')\n",
      "plt.show()"
     ],
     "language": "python",
     "metadata": {},
     "outputs": [
      {
       "metadata": {},
       "output_type": "display_data",
       "png": "[encoded data removed]",
       "text": [
        "<matplotlib.figure.Figure at 0x1082d0e50>"
       ]
      },
      {
       "metadata": {},
       "output_type": "display_data",
       "png": "[encoded data removed]",
       "text": [
        "<matplotlib.figure.Figure at 0x1082d3b10>"
       ]
      },
      {
       "metadata": {},
       "output_type": "display_data",
       "png": "[encoded data removed]",
       "text": [
        "<matplotlib.figure.Figure at 0x108288bd0>"
       ]
      }
     ],
     "prompt_number": 20
    },
    {
     "cell_type": "markdown",
     "metadata": {},
     "source": [
      "2.1"
     ]
    },
    {
     "cell_type": "code",
     "collapsed": false,
     "input": [
      "edu_mod = {1:-3, 2:-1, 3:0, 4:1, 5:3, 6:4}\n",
      "f = open('marketing.data', 'r')\n",
      "count = 0\n",
      "total_diff = 0\n",
      "\n",
      "for line in f:\n",
      "  cols = line.split(' ')\n",
      "  if(len(cols) < 5):\n",
      "    continue\n",
      "  edu = cols[4].strip()\n",
      "  if(edu == \"NA\" or not edu in edu_mod):\n",
      "    continue\n",
      "  edu = int(edu)\n",
      "  predict = 4 + edu_mod[edu]\n",
      "  total_diff = total_diff + abs(int(cols[0]) - predict) \n",
      "  count = count + 1\n",
      " \n",
      "  average_per_user = total_diff/float(count)\n",
      "\n",
      "print \"Total Difference %s\" % total_diff\n",
      "print \"Average difference per user is %s \" % average_per_user"
     ],
     "language": "python",
     "metadata": {},
     "outputs": [
      {
       "output_type": "stream",
       "stream": "stdout",
       "text": [
        "Total Difference 7087\n",
        "Average difference per user is 0.788057377961 \n"
       ]
      }
     ],
     "prompt_number": 27
    },
    {
     "cell_type": "markdown",
     "metadata": {},
     "source": [
      "2.2"
     ]
    },
    {
     "cell_type": "code",
     "collapsed": false,
     "input": [
      "occ_mod = {1:2.5, 2:0.6, 3:0, 4:0.2, 5:-0.5, 6:-1.5, 7:0.3, 8:0.8, 9:-2.5}\n",
      "f = open('marketing.data', 'r')\n",
      "\n",
      "count = 0\n",
      "total_diff = 0\n",
      "to\n",
      "\n",
      "for line in f:\n",
      "  cols = line.split(' ')\n",
      "  if(line.count(\"NA\") > 0 or len(cols) < 6):\n",
      "    continue\n",
      "  edu = cols[4].strip()\n",
      "  occ = cols[5].strip()\n",
      "  if (edu == \"NA\" or occ == \"NA\"):\n",
      "    continue\n",
      "\n",
      "  edu = int(edu)\n",
      "  occ = int(occ)\n",
      "  predict = 4 + edu_mod[edu] + occ_mod[occ]\n",
      "  total_diff = total_diff + abs(int(cols[0]) - predict) \n",
      "  count = count + 1\n",
      " \n",
      "average_per_user = total_diff/float(count)\n",
      "\n",
      "print \"Total Difference \"+ str(total_diff)\n",
      "print \"Average difference per user is \" + str(average_per_user)"
     ],
     "language": "python",
     "metadata": {},
     "outputs": [
      {
       "output_type": "stream",
       "stream": "stdout",
       "text": [
        "Total Difference 15375.5\n",
        "Average difference per user is 2.23611111111\n"
       ]
      }
     ],
     "prompt_number": 39
    },
    {
     "cell_type": "code",
     "collapsed": false,
     "input": [],
     "language": "python",
     "metadata": {},
     "outputs": []
    }
   ],
   "metadata": {}
  }
 ]
}