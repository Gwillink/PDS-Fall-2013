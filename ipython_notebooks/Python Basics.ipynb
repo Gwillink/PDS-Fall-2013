{
 "metadata": {
  "name": ""
 },
 "nbformat": 3,
 "nbformat_minor": 0,
 "worksheets": [
  {
   "cells": [
    {
     "cell_type": "markdown",
     "metadata": {},
     "source": [
      "Comments\n",
      "--------\n",
      "Comments are notes in your source code that aren't exectued when your code is run. These are useful for reminding yourself what your code does, and for notifying others to your intentions. Python has single line and multiline comments."
     ]
    },
    {
     "cell_type": "code",
     "collapsed": false,
     "input": [
      "# this is a single line comment\n",
      "print \"trying out some comments\"\n",
      "\n",
      "\"\"\"and here\n",
      "is a multi-line comment\"\"\"\n",
      "\n",
      "\n",
      "print \"python ftw\""
     ],
     "language": "python",
     "metadata": {},
     "outputs": [
      {
       "output_type": "stream",
       "stream": "stdout",
       "text": [
        "trying out some comments\n",
        "python ftw\n"
       ]
      }
     ],
     "prompt_number": 8
    },
    {
     "cell_type": "markdown",
     "metadata": {},
     "source": [
      "Variables\n",
      "---------\n",
      "\n",
      "Variables are aliases for data. This allows the developer to use the name for a particular value rather than the value it self. This makes the code more readable, and allows various optimizations to make a program run more efficiently.\n",
      "\n",
      "In python, a variable can be named almost anything, according to the whims of the programmer. You can use any letter, the special characters \"_\" and every number provided you do not start with it. White spaces and signs with special meanings in Python, as \"+\" and \"-\" are not allowed. Variable names are case-sensitive\n",
      "\n",
      "Variables are declared by stating the variable name and assigning to it using the \"=\" operator. At any time, you can reassign a value to a variable."
     ]
    },
    {
     "cell_type": "code",
     "collapsed": false,
     "input": [
      "a_variable = \"yay!\"\n",
      "another_variable = \"woo!\"\n",
      "\n",
      "print a_variable\n",
      "\n",
      "a_variable = \"uh oh!\" # reassigning\n",
      "\n",
      "print a_variable\n",
      "\n",
      "a_variable = another_variable # reassigning again\n",
      "\n",
      "print a_variable"
     ],
     "language": "python",
     "metadata": {},
     "outputs": [
      {
       "output_type": "stream",
       "stream": "stdout",
       "text": [
        "yay!\n",
        "uh oh!\n",
        "woo!\n"
       ]
      }
     ],
     "prompt_number": 11
    },
    {
     "cell_type": "markdown",
     "metadata": {},
     "source": [
      "Primitive Data Types\n",
      "--------------------\n",
      "\n",
      "These are the basic data types that constitute all of the more complex data structures in python.\n",
      "\n",
      "###String:\n",
      "Textual data, characters and sequences of characters. Can be specified by surrounding some text with single `'` or double `\"` quotes. "
     ]
    },
    {
     "cell_type": "code",
     "collapsed": false,
     "input": [
      "str_1 = \"hello\"\n",
      "str_2 = \"world\"\n",
      "print str_1 + \" \" + str_2 + \"!\" # note that + concatenates strings\n",
      "\n",
      "str_3 = \"\"\"\n",
      "this is a multiline\n",
      "string!\n",
      "\"\"\"\n",
      "\n",
      "print str_3"
     ],
     "language": "python",
     "metadata": {},
     "outputs": [
      {
       "output_type": "stream",
       "stream": "stdout",
       "text": [
        "hello world!\n",
        "\n",
        "this is a multiline\n",
        "string!\n",
        "\n"
       ]
      }
     ],
     "prompt_number": 6
    },
    {
     "cell_type": "markdown",
     "metadata": {},
     "source": [
      "###Integer:\n",
      "Positive and negative whole numbers"
     ]
    },
    {
     "cell_type": "code",
     "collapsed": false,
     "input": [
      "int_1 = 1\n",
      "int_2 = -2\n",
      "int_3 = 100\n",
      "\n",
      "print int_1 + int_2 + int_3 # for integers, + is just \"plus\""
     ],
     "language": "python",
     "metadata": {},
     "outputs": [
      {
       "output_type": "stream",
       "stream": "stdout",
       "text": [
        "99\n"
       ]
      }
     ],
     "prompt_number": 9
    },
    {
     "cell_type": "markdown",
     "metadata": {},
     "source": [
      "###Floating Point Numbers:\n",
      "Decimal numbers, representations of fractions, and \"real-valued numbers\""
     ]
    },
    {
     "cell_type": "code",
     "collapsed": false,
     "input": [
      "float_1 = 1.2\n",
      "float_2 = -4.0\n",
      "float_3 = 10.0\n",
      "\n",
      "print float_1 + float_2 + float_3"
     ],
     "language": "python",
     "metadata": {},
     "outputs": [
      {
       "output_type": "stream",
       "stream": "stdout",
       "text": [
        "7.2\n"
       ]
      }
     ],
     "prompt_number": 4
    },
    {
     "cell_type": "markdown",
     "metadata": {},
     "source": [
      "###Booleans:\n",
      "\n",
      "Booleans represent the truth or success of a statement, and are commonly used for branching and checking status in code. "
     ]
    },
    {
     "cell_type": "code",
     "collapsed": false,
     "input": [
      "bool_1 = True \n",
      "bool_2 = False\n",
      "\n",
      "print bool_1\n",
      "print bool_2"
     ],
     "language": "python",
     "metadata": {},
     "outputs": [
      {
       "output_type": "stream",
       "stream": "stdout",
       "text": [
        "True\n",
        "False\n"
       ]
      }
     ],
     "prompt_number": 10
    },
    {
     "cell_type": "markdown",
     "metadata": {},
     "source": [
      "Operations on Primitive Data Types\n",
      "----------------------------------\n",
      "\n",
      "Python provides a variety of operations for performing common tasks on the primitive data types presented above. Of course, this list isn't complete, and the core functionality provided by python is greatly extended by library code, some of which will be discussed below. Note that operations can be performed either on \"literal primitives\" or on variables storing some primitive. \n",
      "\n",
      "###Operations on Strings \n",
      "We've already seen one of the most common string operators, `+`, used for string concatenation. Below are some of the more commonly used string operations:\n",
      "\n",
      "+ `+` : concatenate two strings\n",
      "+ `len(str)`: length of a string, number of characters\n",
      "+ `str.upper()`: returns an uppercase version of a string\n",
      "+ `str.lower()`: returns a lowercase version of a string\n",
      "+ `haystack.index(needle)`: searches haystack for needle, prints the position of the first occurrence, indexed from 0. Note, throws an error if needle isn't found.\n",
      "+ `str_1.count(str_2)`: counts the number of occurrences of one string in another.\n",
      "+ `haystack.startswith(needle)`: does a the haystack string start with the needle string?\n",
      "+ `haystack.endswith(needle)`: does a the haystack string end with the needle string?\n",
      "+ `str_1.split(str_2)`: split the first string at every occurrence of the second string. Outputs a list (see below).\n",
      "+ `==`: are the two operand strings the same?\n",
      "\n",
      "A better list of string operations is [available here](http://docs.python.org/2/library/string.html)."
     ]
    },
    {
     "cell_type": "code",
     "collapsed": false,
     "input": [
      "print \"concatenation:\"\n",
      "print str_1 + \" \" + str_2\n",
      "print str_1 + \" everybody\"\n",
      "\n",
      "print \"length:\"\n",
      "print len(str_1)\n",
      "print len(str_1 + \" \" + str_2)\n",
      "\n",
      "print \"string casing:\"\n",
      "print str_1.upper()\n",
      "print \"HELLO\".lower()\n",
      "\n",
      "print \"string indexing:\"\n",
      "print \"hello\".index(\"ll\")\n",
      "print \"hello\".upper().index(\"LL\")\n",
      "\n",
      "print \"string count:\"\n",
      "print str_1.count(\"l\")\n",
      "print str_1.count(\"ll\")\n",
      "\n",
      "print \"starts with & endswith:\"\n",
      "print \"hello\".startswith(\"he\")\n",
      "print \"hello\".endswith(\"world\")\n",
      "\n",
      "print \"split:\"\n",
      "print \"practical data science\".split(\" \")\n",
      "print \"hello\".split(\" \")\n",
      "\n",
      "print \"equality:\"\n",
      "print str_1 == \"hello\"\n",
      "print str_1 == \"HELLO\""
     ],
     "language": "python",
     "metadata": {},
     "outputs": [
      {
       "output_type": "stream",
       "stream": "stdout",
       "text": [
        "concatenation:\n",
        "hello world\n",
        "hello everybody\n",
        "length:\n",
        "5\n",
        "11\n",
        "string casing:\n",
        "HELLO\n",
        "hello\n",
        "string indexing:\n",
        "2\n",
        "2\n",
        "string count:\n",
        "2\n",
        "1\n",
        "starts with & endswith:\n",
        "True\n",
        "False\n",
        "split:\n",
        "['practical', 'data', 'science']\n",
        "['hello']\n",
        "equality:\n",
        "True\n",
        "False\n"
       ]
      }
     ],
     "prompt_number": 25
    },
    {
     "cell_type": "markdown",
     "metadata": {},
     "source": [
      "###Operations on Numeric Types:\n",
      "There are a bunch of common mathematical operations available on numeric types in python. If an operation is being performed on two integers, then the output will also be an integer. If one of the operands is a float, then the remaining operand will be cast into a float, and the result will likewise be a float.\n",
      "\n",
      "+ `+`: plus, add two numbers\n",
      "+ `-`: minus, subtract two numbers. If put before a single numeric value, takes the negative of that value. \n",
      "+ `*`: multiply two numbers\n",
      "+ `/`: divide the first operand by the second.\n",
      "+ `%`: modulous, what is the remainder when the first number is divided by the second?"
     ]
    },
    {
     "cell_type": "code",
     "collapsed": false,
     "input": [
      "print \"addition:\"\n",
      "print 1+1\n",
      "print 1.5 + 1\n",
      "\n",
      "print \"subtraction:\"\n",
      "print 1-1\n",
      "print 1-1.0\n",
      "\n",
      "print \"negation:\"\n",
      "x = 5\n",
      "print -x\n",
      "\n",
      "print \"multiplication:\"\n",
      "print 3*3\n",
      "print 2*2.0\n",
      "\n",
      "print \"division:\"\n",
      "print 5/2 # integer division!\n",
      "print 5/2.0\n",
      "\n",
      "print \"modulous:\"\n",
      "print 5%2\n",
      "print 5.5%2\n"
     ],
     "language": "python",
     "metadata": {},
     "outputs": [
      {
       "output_type": "stream",
       "stream": "stdout",
       "text": [
        "addition:\n",
        "2\n",
        "2.5\n",
        "subtraction:\n",
        "0\n",
        "0.0\n",
        "negation:\n",
        "-5\n",
        "multiplication:\n",
        "9\n",
        "4.0\n",
        "division:\n",
        "2\n",
        "2.5\n",
        "modulous:\n",
        "1\n",
        "1.5\n"
       ]
      }
     ],
     "prompt_number": 26
    },
    {
     "cell_type": "markdown",
     "metadata": {},
     "source": [
      "There are also a bunch of comparison operators on numeric values:\n",
      "\n",
      "+ `==`: equality of values\n",
      "+ `<`: less than\n",
      "+ `<=`: less than or equal to\n",
      "+ `>`: greater than\n",
      "+ `>=`: greater than or equal to\n",
      "+ `!=`: not equal to, different than\n",
      "\n",
      "These all return a boolean with a value that depends on the outcome of the comparison. "
     ]
    },
    {
     "cell_type": "code",
     "collapsed": false,
     "input": [
      "print \"equals:\"\n",
      "print 1 == 2\n",
      "print 1 == 1\n",
      "print 1 == 1.0\n",
      "\n",
      "print \"comparison:\"\n",
      "print 1 > 0\n",
      "print 1 > 1\n",
      "print 1.0 > 1\n",
      "print 1 >= 1\n",
      "print 1.0 != 1"
     ],
     "language": "python",
     "metadata": {},
     "outputs": [
      {
       "output_type": "stream",
       "stream": "stdout",
       "text": [
        "equals:\n",
        "False\n",
        "True\n",
        "True\n",
        "comparison:\n",
        "True\n",
        "False\n",
        "False\n",
        "True\n",
        "False\n"
       ]
      }
     ],
     "prompt_number": 27
    },
    {
     "cell_type": "markdown",
     "metadata": {},
     "source": [
      "###String Formatting:\n",
      "Often one wants to embed other information into strings, sometimes with special formatting constraints. In python, one may insert special formatting characters into strings that convey what type of data should be inserted and where, and how the \"stringified\" form should be formatted. For instance, one may wish to insert an integer into a string:"
     ]
    },
    {
     "cell_type": "code",
     "collapsed": false,
     "input": [
      "print \"To be or not %d be\" % 2"
     ],
     "language": "python",
     "metadata": {},
     "outputs": [
      {
       "output_type": "stream",
       "stream": "stdout",
       "text": [
        "To be or not 2 be\n"
       ]
      }
     ],
     "prompt_number": 28
    },
    {
     "cell_type": "markdown",
     "metadata": {},
     "source": [
      "Note the `%d` formatting (or conversion) specifier in the string. This is stating that you wish to insert an integer value (more on these conversion specifiers below). Then the value you wish to insert into the string is separated by a `%` character placed after the string. If you wish to insert more than one value into the string being formatted, they can be placed in a comma separated list, surrounded by parentheses after the `%`:"
     ]
    },
    {
     "cell_type": "code",
     "collapsed": false,
     "input": [
      "print \"%d be or not %d be\" % (2, 2)"
     ],
     "language": "python",
     "metadata": {},
     "outputs": [
      {
       "output_type": "stream",
       "stream": "stdout",
       "text": [
        "2 be or not 2 be\n"
       ]
      }
     ],
     "prompt_number": 29
    },
    {
     "cell_type": "markdown",
     "metadata": {},
     "source": [
      "In detail, a conversion specifier contains two or more characters which must occur in order with the following components:\n",
      "\n",
      "+ The `%` character which marks the start of the specifier\n",
      "+ An optional minimum field width. The value being read is padded to be at least this width\n",
      "+ An optional precision value, given as a \"`.`\" followed by the number of digits precision. \n",
      "+ Conversion specifier flag specified below. \n",
      "\n",
      "For a more detailed treatment on string formatting options, [see here](http://docs.python.org/release/2.5.2/lib/typesseq-strings.html).\n",
      "\n",
      "The conversion flag characters are:\n",
      "+ `d`: Signed integer decimal.\t\n",
      "+ `i`: Signed integer decimal.\t\n",
      "+ `o`: Unsigned octal.\n",
      "+ `u`: Unsigned decimal.\t\n",
      "+ `x`: Unsigned hexadecimal (lowercase).\n",
      "+ `X`: Unsigned hexadecimal (uppercase).\n",
      "+ `e`: Floating point exponential format (lowercase).\n",
      "+ `E`: Floating point exponential format (uppercase).\n",
      "+ `f`: Floating point decimal format.\n",
      "+ `F`: Floating point decimal format.\n",
      "+ `g`: Floating point format. Uses exponential format if exponent is greater than -4 or less than precision, decimal format otherwise.\n",
      "+ `G`: Floating point format. Uses exponential format if exponent is greater than -4 or less than precision, decimal format otherwise.\n",
      "+ `c`: Single character (accepts integer or single character string).\t\n",
      "+ `r`: String (converts any python object using repr()).\n",
      "+ `s`: String (converts any python object using str()).\n",
      "+ `%`: No argument is converted, results in a \"%\" character in the result."
     ]
    },
    {
     "cell_type": "code",
     "collapsed": false,
     "input": [],
     "language": "python",
     "metadata": {},
     "outputs": []
    }
   ],
   "metadata": {}
  }
 ]
}